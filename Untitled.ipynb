{
 "cells": [
  {
   "cell_type": "code",
   "execution_count": 1,
   "metadata": {},
   "outputs": [],
   "source": [
    "import pandas as pd\n",
    "import numpy as np\n",
    "from sklearn.model_selection import train_test_split"
   ]
  },
  {
   "cell_type": "markdown",
   "metadata": {},
   "source": [
    "## 1.Downloading Data set from sklearn.datasets"
   ]
  },
  {
   "cell_type": "code",
   "execution_count": 2,
   "metadata": {},
   "outputs": [],
   "source": [
    "from sklearn.datasets import load_breast_cancer"
   ]
  },
  {
   "cell_type": "markdown",
   "metadata": {},
   "source": [
    "## 2.Required Pre-Processing"
   ]
  },
  {
   "cell_type": "markdown",
   "metadata": {},
   "source": [
    "## 3.Implementing 4 classification models with default parameters and Comparing"
   ]
  },
  {
   "cell_type": "code",
   "execution_count": 3,
   "metadata": {},
   "outputs": [],
   "source": [
    "from sklearn.ensemble import RandomForestClassifier,GradientBoostingClassifier\n",
    "from sklearn.tree import DecisionTreeClassifier\n",
    "from sklearn.neighbors import KNeighborsClassifier\n",
    "from sklearn import metrics"
   ]
  },
  {
   "cell_type": "code",
   "execution_count": 4,
   "metadata": {},
   "outputs": [],
   "source": [
    "y=load_breast_cancer(as_frame=True).target\n",
    "X=load_breast_cancer(as_frame=True).data\n",
    "X_train,X_test,y_train,y_test=train_test_split(X,y,test_size=1/3,random_state=1)"
   ]
  },
  {
   "cell_type": "code",
   "execution_count": 5,
   "metadata": {},
   "outputs": [
    {
     "name": "stdout",
     "output_type": "stream",
     "text": [
      "Accuracy: 0.9421052631578948\n",
      "Accuracy on given data set: 1.0\n"
     ]
    }
   ],
   "source": [
    "dtc = DecisionTreeClassifier()#include max_depth field\n",
    "dtc.fit(X_train,y_train)\n",
    "y_dtc_pred=dtc.predict(X_test)\n",
    "print(\"Accuracy:\",metrics.accuracy_score(y_test, y_dtc_pred))\n",
    "y_dtc_pred=dtc.predict(X_train)\n",
    "print(\"Accuracy on given data set:\",metrics.accuracy_score(y_train, y_dtc_pred))"
   ]
  },
  {
   "cell_type": "code",
   "execution_count": 6,
   "metadata": {},
   "outputs": [
    {
     "name": "stdout",
     "output_type": "stream",
     "text": [
      "Accuracy: 0.9421052631578948\n",
      "Accuracy on given data set: 1.0\n"
     ]
    }
   ],
   "source": [
    "rfc =RandomForestClassifier()#include max_depth field\n",
    "rfc.fit(X_train,y_train)\n",
    "y_rfc_pred=rfc.predict(X_test)\n",
    "print(\"Accuracy:\",metrics.accuracy_score(y_test, y_rfc_pred))\n",
    "y_rfc_pred=rfc.predict(X_train)\n",
    "print(\"Accuracy on given data set:\",metrics.accuracy_score(y_train, y_rfc_pred))"
   ]
  },
  {
   "cell_type": "code",
   "execution_count": 7,
   "metadata": {},
   "outputs": [
    {
     "name": "stdout",
     "output_type": "stream",
     "text": [
      "Accuracy: 0.9631578947368421\n",
      "Accuracy on given data set: 1.0\n"
     ]
    }
   ],
   "source": [
    "gbc=GradientBoostingClassifier()#include max_depth field\n",
    "gbc.fit(X_train,y_train)\n",
    "y_gbc_pred=gbc.predict(X_test)\n",
    "print(\"Accuracy:\",metrics.accuracy_score(y_test, y_gbc_pred))\n",
    "y_gbc_pred=gbc.predict(X_train)\n",
    "print(\"Accuracy on given data set:\",metrics.accuracy_score(y_train, y_gbc_pred))"
   ]
  },
  {
   "cell_type": "code",
   "execution_count": 8,
   "metadata": {},
   "outputs": [
    {
     "name": "stdout",
     "output_type": "stream",
     "text": [
      "Accuracy: 0.9210526315789473\n",
      "Accuracy on given data set: 0.9340369393139841\n"
     ]
    }
   ],
   "source": [
    "knc = KNeighborsClassifier()#include max_depth field\n",
    "knc.fit(X_train,y_train)\n",
    "y_knc_pred=knc.predict(X_test)\n",
    "print(\"Accuracy:\",metrics.accuracy_score(y_test, y_knc_pred))\n",
    "y_knc_pred=knc.predict(X_train)\n",
    "print(\"Accuracy on given data set:\",metrics.accuracy_score(y_train, y_knc_pred))"
   ]
  },
  {
   "cell_type": "markdown",
   "metadata": {},
   "source": [
    "## Tuning the hyper parameters of Decision Tree model"
   ]
  },
  {
   "cell_type": "code",
   "execution_count": 9,
   "metadata": {},
   "outputs": [],
   "source": [
    "from sklearn.model_selection import GridSearchCV"
   ]
  },
  {
   "cell_type": "code",
   "execution_count": 12,
   "metadata": {},
   "outputs": [
    {
     "name": "stdout",
     "output_type": "stream",
     "text": [
      "Accuracy: 0.8947368421052632\n"
     ]
    }
   ],
   "source": [
    "parameters={\"criterion\": [\"gini\", 'entropy'], 'max_depth': [10, 20, 50, 100], 'min_samples_leaf':\n",
    "[10, 20, 50]}\n",
    "dtc=GridSearchCV(DecisionTreeClassifier(),parameters)\n",
    "dtc.fit(X_train,y_train)\n",
    "y_pred=dtc.predict(X_test)\n",
    "print(\"Accuracy:\",metrics.accuracy_score(y_test,y_pred))"
   ]
  }
 ],
 "metadata": {
  "kernelspec": {
   "display_name": "Python 3",
   "language": "python",
   "name": "python3"
  },
  "language_info": {
   "codemirror_mode": {
    "name": "ipython",
    "version": 3
   },
   "file_extension": ".py",
   "mimetype": "text/x-python",
   "name": "python",
   "nbconvert_exporter": "python",
   "pygments_lexer": "ipython3",
   "version": "3.8.5"
  }
 },
 "nbformat": 4,
 "nbformat_minor": 4
}
